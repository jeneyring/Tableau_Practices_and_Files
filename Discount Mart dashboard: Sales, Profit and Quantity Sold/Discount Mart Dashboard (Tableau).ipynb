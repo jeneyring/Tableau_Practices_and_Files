{
 "cells": [
  {
   "cell_type": "markdown",
   "id": "51b5589f",
   "metadata": {},
   "source": [
    "<center><h2 style=\"font-family: Arial; font-size:2.4em;color:grey;\"> DiscountMart Dashboard: </h2></center>\n",
    "________________________________________________________________________________________________________________________"
   ]
  },
  {
   "cell_type": "markdown",
   "id": "f2e91810",
   "metadata": {},
   "source": [
    "<center><img src=\"Discount+Mart+(1).png\" alt=\"Drawing\" style=\"width: 200px;\"/></center>"
   ]
  },
  {
   "cell_type": "markdown",
   "id": "671d359a",
   "metadata": {},
   "source": [
    "<u> <b>About the dashboard:\n",
    "\n",
    "Utilizing my skillsets in Tableau, I completed this course work (materials made by Dee Naidoo) and passion-learning project in creating a 2019 Sales Dashboard for the company, Discount Mart. \n",
    "\n",
    "In this project, I was asked to create a Live Dashboard that would accurately track how well Discount Mart was doing in Sales, Quantity Sold and Profit.\n",
    "\n",
    "The dataset used to create this Tableau dashboard can be found at: https://finch-groundhog-9245.squarespace.com/s/discountmart.csv"
   ]
  },
  {
   "cell_type": "markdown",
   "id": "4ab82827",
   "metadata": {},
   "source": [
    "<h2 style=\"font-family: Arial; font-size:2.4em;color:green;\"> Project Goal: </h2>\n"
   ]
  },
  {
   "cell_type": "markdown",
   "id": "85d1c6bc",
   "metadata": {},
   "source": [
    "<center><img src=\"Dashboard 1.png\" alt=\"Drawing\" style=\"width: 800px;\"/></center>"
   ]
  },
  {
   "cell_type": "code",
   "execution_count": null,
   "id": "51b1d75e",
   "metadata": {},
   "outputs": [],
   "source": []
  }
 ],
 "metadata": {
  "kernelspec": {
   "display_name": "Python 3 (ipykernel)",
   "language": "python",
   "name": "python3"
  },
  "language_info": {
   "codemirror_mode": {
    "name": "ipython",
    "version": 3
   },
   "file_extension": ".py",
   "mimetype": "text/x-python",
   "name": "python",
   "nbconvert_exporter": "python",
   "pygments_lexer": "ipython3",
   "version": "3.9.7"
  }
 },
 "nbformat": 4,
 "nbformat_minor": 5
}
